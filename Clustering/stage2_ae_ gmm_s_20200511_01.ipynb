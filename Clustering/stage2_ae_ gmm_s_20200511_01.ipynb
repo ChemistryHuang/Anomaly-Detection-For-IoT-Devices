{
 "cells": [
  {
   "cell_type": "markdown",
   "metadata": {},
   "source": [
    "## Stage2 (Pattern Recognition) - GMM Clustering for IoT Pattern Similarity"
   ]
  },
  {
   "cell_type": "markdown",
   "metadata": {},
   "source": [
    "### Stage 1 Non-Linear (AutoEncoder) Dimension Reduction of the 8 IoTs benign data from 115 features to 20 latent representations."
   ]
  },
  {
   "cell_type": "markdown",
   "metadata": {},
   "source": [
    "## Stage 2 Steps in Detail -\n",
    "###      Input Data: 'Benign' from first 8 x IoTs: 536,404 records x 20 latent representations\n",
    "###      Stage 2 (Pattern Recognition): GMM\n",
    "###                 Step 2.1 --> Calculate Inertia to identify the correct number of clusters\n",
    "###                 Step 2.2 --> Visual confirmation of IoT similarities among 20 clusters\n",
    "###                 Step 2.3 --> Clustering of IoT patterns to group similar IoTs, as clusters of 3 or 4 or 5 groups.\n",
    "###       Results: IoTs (3,5,6) and (7,8) show pattern similarities among IoTs within those groups."
   ]
  },
  {
   "cell_type": "markdown",
   "metadata": {},
   "source": [
    "## Summary: Analysis show IoTs (3,5,6) and (7,8) can be grouped together based on pattern recognition similarities."
   ]
  },
  {
   "cell_type": "markdown",
   "metadata": {},
   "source": [
    "#### backup Ref: NA"
   ]
  },
  {
   "cell_type": "markdown",
   "metadata": {},
   "source": [
    "### Stage 1 (Dimensionality Reduction): AutoEncoder\n",
    "### Stage 1 - 536,404 records with 115 features -> Auto Encoder (non-linear) dimension reduction -> 536,404 x 20 latent representations (dimensions)"
   ]
  },
  {
   "cell_type": "code",
   "execution_count": 1,
   "metadata": {},
   "outputs": [
    {
     "name": "stderr",
     "output_type": "stream",
     "text": [
      "Using TensorFlow backend.\n"
     ]
    }
   ],
   "source": [
    "# Import all packages required for compression and clustering\n",
    "from keras.models import Sequential\n",
    "from keras.layers import Dense, Dropout, Flatten, Input\n",
    "from keras.callbacks import EarlyStopping\n",
    "from keras import regularizers, Model\n",
    "from keras import backend\n",
    "\n",
    "from sklearn.cluster import KMeans\n",
    "from sklearn.preprocessing import StandardScaler\n",
    "from sklearn.model_selection import train_test_split\n",
    "from sklearn.metrics import accuracy_score, precision_recall_curve, classification_report, confusion_matrix, average_precision_score, roc_curve, auc\n",
    "\n",
    "from scipy import spatial\n",
    "\n",
    "import numpy as np\n",
    "import matplotlib.pyplot as plt\n",
    "import pandas as pd\n",
    "import seaborn as sns\n",
    "from numpy.random import seed\n",
    "seed(42)\n",
    "\n",
    "from sklearn.mixture import GaussianMixture"
   ]
  },
  {
   "cell_type": "code",
   "execution_count": 2,
   "metadata": {},
   "outputs": [],
   "source": [
    "#Import benign files from all nine IoT devices and capture the device information in a seperate dataframe\n",
    "\n",
    "device1 =pd.read_csv(\"1.benign.csv\")\n",
    "#device1 = device1.sample(13000, random_state=42)\n",
    "device1['Device'] = 1\n",
    "label1 = device1['Device']\n",
    "device1 = device1.drop(['Device'], axis=1)\n",
    "\n",
    "device2 =pd.read_csv(\"2.benign.csv\")\n",
    "#device2 = device2.sample(13000, random_state=42)\n",
    "device2['Device'] = 2\n",
    "label2 = device2['Device']\n",
    "device2 = device2.drop(['Device'], axis=1)\n",
    "\n",
    "device3 =pd.read_csv(\"3.benign.csv\")\n",
    "#device3 = device3.sample(13000, random_state=42)\n",
    "device3['Device'] = 3\n",
    "label3 = device3['Device']\n",
    "device3 = device3.drop(['Device'], axis=1)\n",
    "\n",
    "device4 =pd.read_csv(\"4.benign.csv\")\n",
    "#device4 = device4.sample(13000, random_state=42)\n",
    "device4['Device'] = 4\n",
    "label4 = device4['Device']\n",
    "device4 = device4.drop(['Device'], axis=1)\n",
    "\n",
    "device5 =pd.read_csv(\"5.benign.csv\")\n",
    "#device5 = device5.sample(13000, random_state=42)\n",
    "device5['Device'] = 5\n",
    "label5 = device5['Device']\n",
    "device5 = device5.drop(['Device'], axis=1)\n",
    "\n",
    "device6 =pd.read_csv(\"6.benign.csv\")\n",
    "#device6 = device6.sample(13000, random_state=42)\n",
    "device6['Device'] = 6\n",
    "label6 = device6['Device']\n",
    "device6 = device6.drop(['Device'], axis=1)\n",
    "\n",
    "device7 =pd.read_csv(\"7.benign.csv\")\n",
    "#device7 = device7.sample(11000, random_state=42)\n",
    "device7['Device'] = 7\n",
    "label7 = device7['Device']\n",
    "device7 = device7.drop(['Device'], axis=1)\n",
    "\n",
    "device8 =pd.read_csv(\"8.benign.csv\")\n",
    "#device8 = device8.sample(13000, random_state=1)\n",
    "device8['Device'] = 8\n",
    "label8 = device8['Device']\n",
    "device8 = device8.drop(['Device'], axis=1)"
   ]
  },
  {
   "cell_type": "code",
   "execution_count": 3,
   "metadata": {},
   "outputs": [
    {
     "name": "stdout",
     "output_type": "stream",
     "text": [
      "Input features shape --> (585952, 115)\n",
      "Labels shape -->  (585952,)\n"
     ]
    }
   ],
   "source": [
    "# Combine all the benign data into a single dataframe\n",
    "all_benign = device1.append([device1,device2,device3,device4,device5,device6,device7,device8])\n",
    "\n",
    "# Combine all the IoT device numbers into a dataframe\n",
    "labels = label1.append([label1,label2,label3,label4,label5,label6,label7,label8])\n",
    "\n",
    "print(\"Input features shape -->\", all_benign.shape)\n",
    "print(\"Labels shape --> \", labels.shape)\n",
    "\n",
    "# delete the individual device data dataframe to release memory\n",
    "del device1, device2,device3,device4,device5,device6,device7,device8"
   ]
  },
  {
   "cell_type": "code",
   "execution_count": 4,
   "metadata": {},
   "outputs": [],
   "source": [
    "# Attach the label back and reshuffle the benign data\n",
    "all_benign['labels'] = labels\n",
    "all_benign = all_benign.sample(frac=1, random_state=42)"
   ]
  },
  {
   "cell_type": "code",
   "execution_count": 5,
   "metadata": {},
   "outputs": [],
   "source": [
    "# create a 50% training set and scale\n",
    "\n",
    "data_size = all_benign.shape[0]//2 \n",
    "\n",
    "train = all_benign.iloc[0:-data_size,:-1].copy()\n",
    "\n",
    "scaler = StandardScaler()\n",
    "scaler.fit(train)\n",
    "train = scaler.transform(train)"
   ]
  },
  {
   "cell_type": "code",
   "execution_count": 6,
   "metadata": {},
   "outputs": [
    {
     "name": "stdout",
     "output_type": "stream",
     "text": [
      "Train on 234380 samples, validate on 58596 samples\n",
      "Epoch 1/150\n",
      "234380/234380 [==============================] - 4s 17us/step - loss: 0.2028 - val_loss: 0.1511\n",
      "Epoch 2/150\n",
      "234380/234380 [==============================] - 4s 15us/step - loss: 0.1214 - val_loss: 0.1096\n",
      "Epoch 3/150\n",
      "234380/234380 [==============================] - 4s 15us/step - loss: 0.1044 - val_loss: 0.0997\n",
      "Epoch 4/150\n",
      "234380/234380 [==============================] - 4s 15us/step - loss: 0.0950 - val_loss: 0.0941\n",
      "Epoch 5/150\n",
      "234380/234380 [==============================] - 4s 16us/step - loss: 0.0890 - val_loss: 0.0861\n",
      "Epoch 6/150\n",
      "234380/234380 [==============================] - 4s 16us/step - loss: 0.0848 - val_loss: 0.0811\n",
      "Epoch 7/150\n",
      "234380/234380 [==============================] - 4s 15us/step - loss: 0.0819 - val_loss: 0.0819\n",
      "Epoch 8/150\n",
      "234380/234380 [==============================] - 4s 15us/step - loss: 0.0795 - val_loss: 0.0717\n",
      "Epoch 9/150\n",
      "234380/234380 [==============================] - 4s 15us/step - loss: 0.0774 - val_loss: 0.0728\n",
      "Epoch 10/150\n",
      "234380/234380 [==============================] - 4s 16us/step - loss: 0.0758 - val_loss: 0.0776\n",
      "Epoch 11/150\n",
      "234380/234380 [==============================] - 4s 15us/step - loss: 0.0742 - val_loss: 0.0959\n",
      "Epoch 12/150\n",
      "234380/234380 [==============================] - 4s 15us/step - loss: 0.0729 - val_loss: 0.0731\n",
      "Epoch 13/150\n",
      "234380/234380 [==============================] - 4s 15us/step - loss: 0.0716 - val_loss: 0.0858\n",
      "Epoch 14/150\n",
      "234380/234380 [==============================] - 4s 16us/step - loss: 0.0707 - val_loss: 0.0728\n",
      "Epoch 15/150\n",
      "234380/234380 [==============================] - 4s 15us/step - loss: 0.0697 - val_loss: 0.0665\n",
      "Epoch 16/150\n",
      "234380/234380 [==============================] - 4s 15us/step - loss: 0.0687 - val_loss: 0.0661\n",
      "Epoch 17/150\n",
      "234380/234380 [==============================] - 4s 15us/step - loss: 0.0681 - val_loss: 0.0716\n",
      "Epoch 18/150\n",
      "234380/234380 [==============================] - 4s 15us/step - loss: 0.0671 - val_loss: 0.0676\n",
      "Epoch 19/150\n",
      "234380/234380 [==============================] - 4s 16us/step - loss: 0.0664 - val_loss: 0.0755\n",
      "Epoch 20/150\n",
      "234380/234380 [==============================] - 4s 15us/step - loss: 0.0657 - val_loss: 0.0651\n",
      "Epoch 21/150\n",
      "234380/234380 [==============================] - 4s 15us/step - loss: 0.0650 - val_loss: 0.0660\n",
      "Epoch 22/150\n",
      "234380/234380 [==============================] - 4s 15us/step - loss: 0.0643 - val_loss: 0.0674\n",
      "Epoch 23/150\n",
      "234380/234380 [==============================] - 4s 16us/step - loss: 0.0637 - val_loss: 0.0633\n",
      "Epoch 24/150\n",
      "234380/234380 [==============================] - 4s 15us/step - loss: 0.0630 - val_loss: 0.0679\n",
      "Epoch 25/150\n",
      "234380/234380 [==============================] - 4s 15us/step - loss: 0.0625 - val_loss: 0.0611\n",
      "Epoch 26/150\n",
      "234380/234380 [==============================] - 4s 15us/step - loss: 0.0619 - val_loss: 0.0599\n",
      "Epoch 27/150\n",
      "234380/234380 [==============================] - 4s 16us/step - loss: 0.0615 - val_loss: 0.0605\n",
      "Epoch 28/150\n",
      "234380/234380 [==============================] - 4s 16us/step - loss: 0.0612 - val_loss: 0.0659\n",
      "Epoch 29/150\n",
      "234380/234380 [==============================] - 4s 15us/step - loss: 0.0606 - val_loss: 0.0574\n",
      "Epoch 30/150\n",
      "234380/234380 [==============================] - 4s 15us/step - loss: 0.0604 - val_loss: 0.0668\n",
      "Epoch 31/150\n",
      "234380/234380 [==============================] - 4s 15us/step - loss: 0.0600 - val_loss: 0.0695\n",
      "Epoch 32/150\n",
      "234380/234380 [==============================] - 4s 16us/step - loss: 0.0597 - val_loss: 0.0577\n",
      "Epoch 33/150\n",
      "234380/234380 [==============================] - 4s 15us/step - loss: 0.0595 - val_loss: 0.0578\n",
      "Epoch 34/150\n",
      "234380/234380 [==============================] - 4s 15us/step - loss: 0.0591 - val_loss: 0.0615\n",
      "Epoch 35/150\n",
      "234380/234380 [==============================] - 4s 15us/step - loss: 0.0588 - val_loss: 0.0568\n",
      "Epoch 36/150\n",
      "234380/234380 [==============================] - 4s 16us/step - loss: 0.0585 - val_loss: 0.0640\n",
      "Epoch 37/150\n",
      "234380/234380 [==============================] - 4s 16us/step - loss: 0.0583 - val_loss: 0.0577\n",
      "Epoch 38/150\n",
      "234380/234380 [==============================] - 4s 15us/step - loss: 0.0580 - val_loss: 0.0573\n",
      "Epoch 39/150\n",
      "234380/234380 [==============================] - 4s 15us/step - loss: 0.0577 - val_loss: 0.0649\n",
      "Epoch 40/150\n",
      "234380/234380 [==============================] - 4s 15us/step - loss: 0.0576 - val_loss: 0.0597\n",
      "Epoch 41/150\n",
      "234380/234380 [==============================] - 4s 16us/step - loss: 0.0574 - val_loss: 0.0596\n",
      "Epoch 42/150\n",
      "234380/234380 [==============================] - 4s 15us/step - loss: 0.0573 - val_loss: 0.0629\n",
      "Epoch 43/150\n",
      "234380/234380 [==============================] - 4s 15us/step - loss: 0.0571 - val_loss: 0.0584\n",
      "Epoch 44/150\n",
      "234380/234380 [==============================] - 4s 15us/step - loss: 0.0568 - val_loss: 0.0594\n",
      "Epoch 45/150\n",
      "234380/234380 [==============================] - 4s 16us/step - loss: 0.0565 - val_loss: 0.0622\n",
      "Epoch 46/150\n",
      "234380/234380 [==============================] - 4s 15us/step - loss: 0.0565 - val_loss: 0.0554\n",
      "Epoch 47/150\n",
      "234380/234380 [==============================] - 4s 15us/step - loss: 0.0564 - val_loss: 0.0580\n",
      "Epoch 48/150\n",
      "234380/234380 [==============================] - 4s 16us/step - loss: 0.0560 - val_loss: 0.0543\n",
      "Epoch 49/150\n",
      "234380/234380 [==============================] - 4s 16us/step - loss: 0.0558 - val_loss: 0.0603\n",
      "Epoch 50/150\n",
      "234380/234380 [==============================] - 4s 16us/step - loss: 0.0557 - val_loss: 0.0607\n",
      "Epoch 51/150\n",
      "234380/234380 [==============================] - 4s 15us/step - loss: 0.0556 - val_loss: 0.0626\n",
      "Epoch 52/150\n",
      "234380/234380 [==============================] - 4s 15us/step - loss: 0.0554 - val_loss: 0.0556\n",
      "Epoch 53/150\n",
      "234380/234380 [==============================] - 4s 16us/step - loss: 0.0552 - val_loss: 0.0605\n",
      "Epoch 54/150\n",
      "234380/234380 [==============================] - 4s 16us/step - loss: 0.0551 - val_loss: 0.0579\n",
      "Epoch 55/150\n",
      "234380/234380 [==============================] - 4s 15us/step - loss: 0.0550 - val_loss: 0.0556\n",
      "Epoch 56/150\n",
      "234380/234380 [==============================] - 4s 15us/step - loss: 0.0548 - val_loss: 0.0537\n",
      "Epoch 57/150\n",
      "234380/234380 [==============================] - 4s 15us/step - loss: 0.0546 - val_loss: 0.0548\n",
      "Epoch 58/150\n",
      "234380/234380 [==============================] - 4s 16us/step - loss: 0.0546 - val_loss: 0.0575\n",
      "Epoch 59/150\n",
      "234380/234380 [==============================] - 4s 16us/step - loss: 0.0544 - val_loss: 0.0541\n",
      "Epoch 60/150\n",
      "234380/234380 [==============================] - 4s 15us/step - loss: 0.0542 - val_loss: 0.0552\n",
      "Epoch 61/150\n",
      "234380/234380 [==============================] - 4s 15us/step - loss: 0.0542 - val_loss: 0.0600\n",
      "Epoch 62/150\n",
      "234380/234380 [==============================] - 4s 15us/step - loss: 0.0541 - val_loss: 0.0562\n",
      "Epoch 63/150\n",
      "234380/234380 [==============================] - 4s 16us/step - loss: 0.0540 - val_loss: 0.0580\n",
      "Epoch 64/150\n",
      "234380/234380 [==============================] - 4s 15us/step - loss: 0.0538 - val_loss: 0.0535\n",
      "Epoch 65/150\n",
      "234380/234380 [==============================] - 4s 15us/step - loss: 0.0536 - val_loss: 0.0529\n",
      "Epoch 66/150\n",
      "234380/234380 [==============================] - 4s 15us/step - loss: 0.0536 - val_loss: 0.0564\n",
      "Epoch 67/150\n",
      "234380/234380 [==============================] - 4s 16us/step - loss: 0.0536 - val_loss: 0.0550\n",
      "Epoch 68/150\n",
      "234380/234380 [==============================] - 4s 15us/step - loss: 0.0533 - val_loss: 0.0566\n",
      "Epoch 69/150\n",
      "234380/234380 [==============================] - 4s 15us/step - loss: 0.0532 - val_loss: 0.0545\n",
      "Epoch 70/150\n",
      "234380/234380 [==============================] - 4s 15us/step - loss: 0.0532 - val_loss: 0.0530\n",
      "Epoch 71/150\n",
      "234380/234380 [==============================] - 4s 16us/step - loss: 0.0530 - val_loss: 0.0551\n",
      "Epoch 72/150\n",
      "234380/234380 [==============================] - 4s 16us/step - loss: 0.0529 - val_loss: 0.0534\n",
      "Epoch 73/150\n",
      "234380/234380 [==============================] - 4s 15us/step - loss: 0.0528 - val_loss: 0.0543\n",
      "Epoch 74/150\n",
      "234380/234380 [==============================] - 4s 15us/step - loss: 0.0529 - val_loss: 0.0537\n",
      "Epoch 75/150\n",
      "234380/234380 [==============================] - 4s 15us/step - loss: 0.0526 - val_loss: 0.0520\n",
      "Epoch 76/150\n",
      "234380/234380 [==============================] - 4s 16us/step - loss: 0.0526 - val_loss: 0.0513\n",
      "Epoch 77/150\n",
      "234380/234380 [==============================] - 4s 15us/step - loss: 0.0524 - val_loss: 0.0535\n",
      "Epoch 78/150\n",
      "234380/234380 [==============================] - 4s 15us/step - loss: 0.0525 - val_loss: 0.0557\n",
      "Epoch 79/150\n",
      "234380/234380 [==============================] - 4s 15us/step - loss: 0.0523 - val_loss: 0.0522\n",
      "Epoch 80/150\n",
      "234380/234380 [==============================] - 4s 16us/step - loss: 0.0523 - val_loss: 0.0536\n",
      "Epoch 81/150\n",
      "234380/234380 [==============================] - 4s 15us/step - loss: 0.0522 - val_loss: 0.0528\n",
      "Epoch 82/150\n",
      "234380/234380 [==============================] - 4s 15us/step - loss: 0.0521 - val_loss: 0.0524\n",
      "Epoch 83/150\n",
      "234380/234380 [==============================] - 4s 15us/step - loss: 0.0520 - val_loss: 0.0546\n",
      "Epoch 84/150\n",
      "234380/234380 [==============================] - 4s 15us/step - loss: 0.0519 - val_loss: 0.0561\n",
      "Epoch 85/150\n",
      "234380/234380 [==============================] - 4s 16us/step - loss: 0.0518 - val_loss: 0.0510\n",
      "Epoch 86/150\n",
      "234380/234380 [==============================] - 4s 15us/step - loss: 0.0518 - val_loss: 0.0501\n",
      "Epoch 87/150\n",
      "234380/234380 [==============================] - 4s 15us/step - loss: 0.0518 - val_loss: 0.0532\n",
      "Epoch 88/150\n",
      "234380/234380 [==============================] - 4s 15us/step - loss: 0.0517 - val_loss: 0.0533\n",
      "Epoch 89/150\n",
      "234380/234380 [==============================] - 4s 16us/step - loss: 0.0516 - val_loss: 0.0583\n",
      "Epoch 90/150\n",
      "234380/234380 [==============================] - 4s 15us/step - loss: 0.0515 - val_loss: 0.0531\n",
      "Epoch 91/150\n",
      "234380/234380 [==============================] - 4s 15us/step - loss: 0.0514 - val_loss: 0.0562\n",
      "Epoch 92/150\n",
      "234380/234380 [==============================] - 4s 15us/step - loss: 0.0514 - val_loss: 0.0524\n",
      "Epoch 93/150\n",
      "234380/234380 [==============================] - 4s 16us/step - loss: 0.0514 - val_loss: 0.0513\n",
      "Epoch 94/150\n",
      "234380/234380 [==============================] - 4s 16us/step - loss: 0.0512 - val_loss: 0.0502\n",
      "Epoch 95/150\n",
      "234380/234380 [==============================] - 4s 15us/step - loss: 0.0511 - val_loss: 0.0524\n",
      "Epoch 96/150\n",
      "234380/234380 [==============================] - 4s 15us/step - loss: 0.0511 - val_loss: 0.0535\n",
      "Epoch 97/150\n",
      "234380/234380 [==============================] - 4s 15us/step - loss: 0.0509 - val_loss: 0.0515\n",
      "Epoch 98/150\n",
      "234380/234380 [==============================] - 4s 16us/step - loss: 0.0510 - val_loss: 0.0522\n",
      "Epoch 99/150\n",
      "234380/234380 [==============================] - 4s 15us/step - loss: 0.0509 - val_loss: 0.0510\n",
      "Epoch 100/150\n",
      "234380/234380 [==============================] - 4s 15us/step - loss: 0.0510 - val_loss: 0.0530\n",
      "Epoch 101/150\n",
      "234380/234380 [==============================] - 4s 16us/step - loss: 0.0507 - val_loss: 0.0508\n",
      "Epoch 102/150\n",
      "234380/234380 [==============================] - 4s 16us/step - loss: 0.0507 - val_loss: 0.0513\n",
      "Epoch 103/150\n",
      "234380/234380 [==============================] - 4s 15us/step - loss: 0.0507 - val_loss: 0.0507\n",
      "Epoch 104/150\n",
      "234380/234380 [==============================] - 4s 15us/step - loss: 0.0507 - val_loss: 0.0504\n",
      "Epoch 105/150\n",
      "234380/234380 [==============================] - 4s 15us/step - loss: 0.0506 - val_loss: 0.0576\n",
      "Epoch 106/150\n",
      "234380/234380 [==============================] - 4s 15us/step - loss: 0.0506 - val_loss: 0.0491\n",
      "Epoch 107/150\n",
      "234380/234380 [==============================] - 4s 16us/step - loss: 0.0506 - val_loss: 0.0497\n",
      "Epoch 108/150\n",
      "234380/234380 [==============================] - 4s 15us/step - loss: 0.0504 - val_loss: 0.0566\n",
      "Epoch 109/150\n",
      "234380/234380 [==============================] - 4s 15us/step - loss: 0.0504 - val_loss: 0.0596\n",
      "Epoch 110/150\n",
      "234380/234380 [==============================] - 4s 15us/step - loss: 0.0504 - val_loss: 0.0492\n",
      "Epoch 111/150\n",
      "234380/234380 [==============================] - 4s 16us/step - loss: 0.0502 - val_loss: 0.0507\n",
      "Epoch 112/150\n",
      "234380/234380 [==============================] - 4s 15us/step - loss: 0.0502 - val_loss: 0.0536\n",
      "Epoch 113/150\n",
      "234380/234380 [==============================] - 4s 15us/step - loss: 0.0501 - val_loss: 0.0554\n",
      "Epoch 114/150\n",
      "234380/234380 [==============================] - 4s 15us/step - loss: 0.0501 - val_loss: 0.0482\n",
      "Epoch 115/150\n",
      "234380/234380 [==============================] - 4s 16us/step - loss: 0.0501 - val_loss: 0.0491\n",
      "Epoch 116/150\n",
      "234380/234380 [==============================] - 4s 16us/step - loss: 0.0500 - val_loss: 0.0509\n",
      "Epoch 117/150\n",
      "234380/234380 [==============================] - 4s 15us/step - loss: 0.0499 - val_loss: 0.0512\n",
      "Epoch 118/150\n",
      "234380/234380 [==============================] - 4s 15us/step - loss: 0.0499 - val_loss: 0.0519\n",
      "Epoch 119/150\n",
      "234380/234380 [==============================] - 4s 15us/step - loss: 0.0499 - val_loss: 0.0538\n",
      "Epoch 120/150\n",
      "234380/234380 [==============================] - 4s 16us/step - loss: 0.0499 - val_loss: 0.0481\n",
      "Epoch 121/150\n",
      "234380/234380 [==============================] - 4s 15us/step - loss: 0.0497 - val_loss: 0.0483\n",
      "Epoch 122/150\n",
      "234380/234380 [==============================] - 4s 15us/step - loss: 0.0498 - val_loss: 0.0542\n",
      "Epoch 123/150\n",
      "234380/234380 [==============================] - 4s 15us/step - loss: 0.0496 - val_loss: 0.0528\n",
      "Epoch 124/150\n",
      "234380/234380 [==============================] - 4s 15us/step - loss: 0.0496 - val_loss: 0.0522\n",
      "Epoch 125/150\n",
      "234380/234380 [==============================] - 4s 16us/step - loss: 0.0495 - val_loss: 0.0499\n",
      "Epoch 126/150\n",
      "234380/234380 [==============================] - 4s 16us/step - loss: 0.0495 - val_loss: 0.0524\n",
      "Epoch 127/150\n",
      "234380/234380 [==============================] - 4s 15us/step - loss: 0.0494 - val_loss: 0.0488\n",
      "Epoch 128/150\n",
      "234380/234380 [==============================] - 4s 15us/step - loss: 0.0494 - val_loss: 0.0509\n",
      "Epoch 129/150\n",
      "234380/234380 [==============================] - 4s 16us/step - loss: 0.0494 - val_loss: 0.0505\n",
      "Epoch 130/150\n",
      "234380/234380 [==============================] - 4s 15us/step - loss: 0.0494 - val_loss: 0.0492\n",
      "Epoch 131/150\n",
      "234380/234380 [==============================] - 4s 15us/step - loss: 0.0493 - val_loss: 0.0505\n",
      "Epoch 132/150\n",
      "234380/234380 [==============================] - 4s 15us/step - loss: 0.0493 - val_loss: 0.0470\n",
      "Epoch 133/150\n",
      "234380/234380 [==============================] - 4s 16us/step - loss: 0.0492 - val_loss: 0.0497\n",
      "Epoch 134/150\n",
      "234380/234380 [==============================] - 4s 16us/step - loss: 0.0492 - val_loss: 0.0509\n",
      "Epoch 135/150\n",
      "234380/234380 [==============================] - 4s 15us/step - loss: 0.0491 - val_loss: 0.0494\n",
      "Epoch 136/150\n",
      "234380/234380 [==============================] - 4s 15us/step - loss: 0.0491 - val_loss: 0.0547\n",
      "Epoch 137/150\n",
      "234380/234380 [==============================] - 4s 16us/step - loss: 0.0490 - val_loss: 0.0510\n",
      "Epoch 138/150\n",
      "234380/234380 [==============================] - 4s 16us/step - loss: 0.0490 - val_loss: 0.0485\n",
      "Epoch 139/150\n",
      "234380/234380 [==============================] - 4s 16us/step - loss: 0.0489 - val_loss: 0.0540\n",
      "Epoch 140/150\n",
      "234380/234380 [==============================] - 4s 16us/step - loss: 0.0489 - val_loss: 0.0494\n",
      "Epoch 141/150\n",
      "234380/234380 [==============================] - 4s 15us/step - loss: 0.0489 - val_loss: 0.0477\n",
      "Epoch 142/150\n",
      "234380/234380 [==============================] - 4s 16us/step - loss: 0.0488 - val_loss: 0.0505\n",
      "Epoch 143/150\n",
      "234380/234380 [==============================] - 4s 16us/step - loss: 0.0489 - val_loss: 0.0490\n",
      "Epoch 144/150\n",
      "234380/234380 [==============================] - 4s 16us/step - loss: 0.0487 - val_loss: 0.0490\n",
      "Epoch 145/150\n",
      "234380/234380 [==============================] - 4s 16us/step - loss: 0.0487 - val_loss: 0.0485\n",
      "Epoch 146/150\n",
      "234380/234380 [==============================] - 4s 17us/step - loss: 0.0486 - val_loss: 0.0494\n",
      "Epoch 147/150\n",
      "234380/234380 [==============================] - 4s 16us/step - loss: 0.0486 - val_loss: 0.0500\n",
      "Epoch 148/150\n",
      "234380/234380 [==============================] - 4s 16us/step - loss: 0.0486 - val_loss: 0.0477\n",
      "Epoch 149/150\n",
      "234380/234380 [==============================] - 4s 16us/step - loss: 0.0485 - val_loss: 0.0462\n"
     ]
    },
    {
     "name": "stdout",
     "output_type": "stream",
     "text": [
      "Epoch 150/150\n",
      "234380/234380 [==============================] - 4s 16us/step - loss: 0.0485 - val_loss: 0.0488\n"
     ]
    },
    {
     "data": {
      "text/plain": [
       "<keras.callbacks.callbacks.History at 0x20d00b3e1c8>"
      ]
     },
     "execution_count": 6,
     "metadata": {},
     "output_type": "execute_result"
    }
   ],
   "source": [
    "# Definition of the loss function for the auto encoder\n",
    "def rmse(y_true, y_pred):\n",
    "    return backend.sqrt(backend.mean(backend.square(y_pred - y_true), axis=-1))\n",
    "\n",
    "# Input layer for the auto encoder\n",
    "input_layer = Input(shape=(train.shape[1],))\n",
    "\n",
    "# Encoding part - From 115 features to 110 to 95 and then compress the data to 20 dimentions\n",
    "encoded = Dense(110, activation='relu', activity_regularizer=regularizers.l1_l2(l1=10e-6, l2=10e-6))(input_layer)\n",
    "encoded = Dense(95, activation='relu')(encoded)\n",
    "encoded = Dense(20)(encoded)\n",
    "\n",
    "# Decoding part - From 20 latent dimentions to 95 and then to 100 features\n",
    "decoded = Dense(95, activation='relu')(encoded)\n",
    "decoded = Dense(110, activation='relu')(decoded)\n",
    "\n",
    "# Output layer\n",
    "output_layer = Dense(train.shape[1])(decoded)\n",
    "\n",
    "# Initialize the auto encoder with the input and output layers\n",
    "autoencoder = Model(input_layer, output_layer)\n",
    "\n",
    "# Code to compress the data into 20 latent dimentions\n",
    "encoder = Model(input_layer, encoded)\n",
    "\n",
    "# Autoencoder compile\n",
    "autoencoder.compile(optimizer= 'adadelta', loss=rmse)\n",
    "\n",
    "# fit the model\n",
    "autoencoder.fit(train, train, batch_size = 100, epochs = 150,\n",
    "                validation_split = 0.20)"
   ]
  },
  {
   "cell_type": "code",
   "execution_count": 7,
   "metadata": {},
   "outputs": [],
   "source": [
    "# Transform with scaler on the test data\n",
    "labels = all_benign.iloc[-data_size:,-1].copy()\n",
    "all_benign = all_benign.iloc[-data_size:,:-1].copy()\n",
    "scaler = StandardScaler()\n",
    "scaler.fit(all_benign)\n",
    "all_benign = scaler.transform(all_benign)"
   ]
  },
  {
   "cell_type": "code",
   "execution_count": null,
   "metadata": {},
   "outputs": [],
   "source": [
    "#new_benign = scaler.transform(new_benign)"
   ]
  },
  {
   "cell_type": "code",
   "execution_count": 8,
   "metadata": {},
   "outputs": [],
   "source": [
    "all_benign = encoder.predict(all_benign)"
   ]
  },
  {
   "cell_type": "code",
   "execution_count": null,
   "metadata": {},
   "outputs": [],
   "source": [
    "#new_benign = encoder.predict(new_benign)"
   ]
  },
  {
   "cell_type": "code",
   "execution_count": 9,
   "metadata": {},
   "outputs": [
    {
     "data": {
      "text/plain": [
       "(292976, 20)"
      ]
     },
     "execution_count": 9,
     "metadata": {},
     "output_type": "execute_result"
    }
   ],
   "source": [
    "all_benign.shape"
   ]
  },
  {
   "cell_type": "code",
   "execution_count": null,
   "metadata": {},
   "outputs": [],
   "source": [
    "#new_benign.shape"
   ]
  },
  {
   "cell_type": "code",
   "execution_count": 10,
   "metadata": {},
   "outputs": [],
   "source": [
    "all_benign = pd.DataFrame(all_benign)"
   ]
  },
  {
   "cell_type": "code",
   "execution_count": 11,
   "metadata": {},
   "outputs": [],
   "source": [
    "all_benign_backup = all_benign.copy()\n",
    "labels_backup = labels.copy()"
   ]
  },
  {
   "cell_type": "code",
   "execution_count": 42,
   "metadata": {},
   "outputs": [],
   "source": [
    "#all_benign = all_benign_backup.copy()\n",
    "#labels = labels_backup.copy()"
   ]
  },
  {
   "cell_type": "markdown",
   "metadata": {},
   "source": [
    "### Stage 2 (Pattern Recognition): Gaussian Mixture Model (GMM) Clustering\n",
    "### Apply pattern recognition techniques to find IoT similarities between 8 IoTs (IoT1 to IoT 8)"
   ]
  },
  {
   "cell_type": "markdown",
   "metadata": {},
   "source": [
    "#### Apply pattern recognition techniques to find IoT similarities"
   ]
  },
  {
   "cell_type": "code",
   "execution_count": 43,
   "metadata": {},
   "outputs": [
    {
     "name": "stderr",
     "output_type": "stream",
     "text": [
      "C:\\Users\\sures\\Anaconda3\\envs\\Tensorflow\\lib\\site-packages\\sklearn\\mixture\\_base.py:267: ConvergenceWarning: Initialization 1 did not converge. Try different init parameters, or increase max_iter, tol or check for degenerate data.\n",
      "  % (init + 1), ConvergenceWarning)\n"
     ]
    },
    {
     "data": {
      "image/png": "[encoded data removed]",
      "text/plain": [
       "<Figure size 432x288 with 1 Axes>"
      ]
     },
     "metadata": {
      "needs_background": "light"
     },
     "output_type": "display_data"
    }
   ],
   "source": [
    "n_components = (2, 10, 20, 30, 100)\n",
    "models = [GaussianMixture(n, covariance_type='full', random_state=0).fit(all_benign) for n in n_components]\n",
    "\n",
    "plt.plot(n_components, [m.bic(all_benign) for m in models], label='BIC')\n",
    "plt.plot(n_components, [m.aic(all_benign) for m in models], label='AIC')\n",
    "plt.legend(loc='best')\n",
    "plt.xlabel('n_components');\n"
   ]
  },
  {
   "cell_type": "code",
   "execution_count": 120,
   "metadata": {},
   "outputs": [],
   "source": [
    "# Elbow method results show optimal cluster number = 20"
   ]
  },
  {
   "cell_type": "code",
   "execution_count": 13,
   "metadata": {},
   "outputs": [
    {
     "name": "stdout",
     "output_type": "stream",
     "text": [
      "(292976, 20)\n"
     ]
    }
   ],
   "source": [
    "print(all_benign.shape)"
   ]
  },
  {
   "cell_type": "code",
   "execution_count": 14,
   "metadata": {},
   "outputs": [
    {
     "name": "stdout",
     "output_type": "stream",
     "text": [
      "DONE 20\n"
     ]
    }
   ],
   "source": [
    "gmm20 = GaussianMixture(n_components=20, random_state=42, covariance_type='full', max_iter = 1000).fit(all_benign)\n",
    "print(\"DONE 20\")"
   ]
  },
  {
   "cell_type": "code",
   "execution_count": 15,
   "metadata": {},
   "outputs": [],
   "source": [
    "#all_benign = all_benign.drop([ 'Device', 'Counter'], axis=1)"
   ]
  },
  {
   "cell_type": "code",
   "execution_count": 16,
   "metadata": {},
   "outputs": [],
   "source": [
    "all_benign['Cluster20'] = gmm20.predict(all_benign)"
   ]
  },
  {
   "cell_type": "code",
   "execution_count": 17,
   "metadata": {},
   "outputs": [
    {
     "data": {
      "text/html": [
       "<div>\n",
       "<style scoped>\n",
       "    .dataframe tbody tr th:only-of-type {\n",
       "        vertical-align: middle;\n",
       "    }\n",
       "\n",
       "    .dataframe tbody tr th {\n",
       "        vertical-align: top;\n",
       "    }\n",
       "\n",
       "    .dataframe thead th {\n",
       "        text-align: right;\n",
       "    }\n",
       "</style>\n",
       "<table border=\"1\" class=\"dataframe\">\n",
       "  <thead>\n",
       "    <tr style=\"text-align: right;\">\n",
       "      <th></th>\n",
       "      <th>0</th>\n",
       "      <th>1</th>\n",
       "      <th>2</th>\n",
       "      <th>3</th>\n",
       "      <th>4</th>\n",
       "      <th>5</th>\n",
       "      <th>6</th>\n",
       "      <th>7</th>\n",
       "      <th>8</th>\n",
       "      <th>9</th>\n",
       "      <th>...</th>\n",
       "      <th>11</th>\n",
       "      <th>12</th>\n",
       "      <th>13</th>\n",
       "      <th>14</th>\n",
       "      <th>15</th>\n",
       "      <th>16</th>\n",
       "      <th>17</th>\n",
       "      <th>18</th>\n",
       "      <th>19</th>\n",
       "      <th>Cluster20</th>\n",
       "    </tr>\n",
       "  </thead>\n",
       "  <tbody>\n",
       "    <tr>\n",
       "      <th>0</th>\n",
       "      <td>0.244768</td>\n",
       "      <td>0.013891</td>\n",
       "      <td>-0.227410</td>\n",
       "      <td>0.166543</td>\n",
       "      <td>0.439204</td>\n",
       "      <td>0.049217</td>\n",
       "      <td>0.494034</td>\n",
       "      <td>0.045805</td>\n",
       "      <td>0.303775</td>\n",
       "      <td>-0.023956</td>\n",
       "      <td>...</td>\n",
       "      <td>-0.051090</td>\n",
       "      <td>0.008086</td>\n",
       "      <td>-0.006933</td>\n",
       "      <td>0.095386</td>\n",
       "      <td>0.089551</td>\n",
       "      <td>0.144270</td>\n",
       "      <td>0.184848</td>\n",
       "      <td>0.106177</td>\n",
       "      <td>0.097128</td>\n",
       "      <td>10</td>\n",
       "    </tr>\n",
       "    <tr>\n",
       "      <th>1</th>\n",
       "      <td>0.449570</td>\n",
       "      <td>0.012148</td>\n",
       "      <td>-0.881305</td>\n",
       "      <td>-0.048516</td>\n",
       "      <td>-0.505958</td>\n",
       "      <td>0.298853</td>\n",
       "      <td>-0.005891</td>\n",
       "      <td>0.725487</td>\n",
       "      <td>0.299820</td>\n",
       "      <td>0.903792</td>\n",
       "      <td>...</td>\n",
       "      <td>0.442254</td>\n",
       "      <td>0.361892</td>\n",
       "      <td>-0.887622</td>\n",
       "      <td>-2.048321</td>\n",
       "      <td>0.606284</td>\n",
       "      <td>-0.547722</td>\n",
       "      <td>-0.576092</td>\n",
       "      <td>0.528249</td>\n",
       "      <td>0.923782</td>\n",
       "      <td>1</td>\n",
       "    </tr>\n",
       "    <tr>\n",
       "      <th>2</th>\n",
       "      <td>1.293928</td>\n",
       "      <td>1.086780</td>\n",
       "      <td>0.745623</td>\n",
       "      <td>1.391058</td>\n",
       "      <td>-1.757221</td>\n",
       "      <td>-0.684523</td>\n",
       "      <td>-0.864803</td>\n",
       "      <td>1.401125</td>\n",
       "      <td>1.105831</td>\n",
       "      <td>-0.631978</td>\n",
       "      <td>...</td>\n",
       "      <td>2.394032</td>\n",
       "      <td>-1.585007</td>\n",
       "      <td>-0.687419</td>\n",
       "      <td>2.603145</td>\n",
       "      <td>1.103362</td>\n",
       "      <td>0.817548</td>\n",
       "      <td>-0.105484</td>\n",
       "      <td>-0.143435</td>\n",
       "      <td>-5.189215</td>\n",
       "      <td>17</td>\n",
       "    </tr>\n",
       "    <tr>\n",
       "      <th>3</th>\n",
       "      <td>-0.374146</td>\n",
       "      <td>0.953489</td>\n",
       "      <td>0.706444</td>\n",
       "      <td>0.879554</td>\n",
       "      <td>0.080643</td>\n",
       "      <td>0.149182</td>\n",
       "      <td>-0.347978</td>\n",
       "      <td>0.555176</td>\n",
       "      <td>-0.906423</td>\n",
       "      <td>0.441393</td>\n",
       "      <td>...</td>\n",
       "      <td>0.280245</td>\n",
       "      <td>-1.541467</td>\n",
       "      <td>-0.768990</td>\n",
       "      <td>-2.416691</td>\n",
       "      <td>0.399270</td>\n",
       "      <td>-0.932385</td>\n",
       "      <td>-1.187793</td>\n",
       "      <td>0.523111</td>\n",
       "      <td>-0.479323</td>\n",
       "      <td>1</td>\n",
       "    </tr>\n",
       "    <tr>\n",
       "      <th>4</th>\n",
       "      <td>0.223781</td>\n",
       "      <td>0.047823</td>\n",
       "      <td>-0.360504</td>\n",
       "      <td>0.039400</td>\n",
       "      <td>-0.107839</td>\n",
       "      <td>0.144846</td>\n",
       "      <td>0.324016</td>\n",
       "      <td>-0.002791</td>\n",
       "      <td>-0.003656</td>\n",
       "      <td>-0.106343</td>\n",
       "      <td>...</td>\n",
       "      <td>-0.075669</td>\n",
       "      <td>0.008156</td>\n",
       "      <td>-0.179342</td>\n",
       "      <td>0.058377</td>\n",
       "      <td>-0.016583</td>\n",
       "      <td>0.004035</td>\n",
       "      <td>-0.076604</td>\n",
       "      <td>0.141653</td>\n",
       "      <td>0.134086</td>\n",
       "      <td>0</td>\n",
       "    </tr>\n",
       "  </tbody>\n",
       "</table>\n",
       "<p>5 rows × 21 columns</p>\n",
       "</div>"
      ],
      "text/plain": [
       "          0         1         2         3         4         5         6  \\\n",
       "0  0.244768  0.013891 -0.227410  0.166543  0.439204  0.049217  0.494034   \n",
       "1  0.449570  0.012148 -0.881305 -0.048516 -0.505958  0.298853 -0.005891   \n",
       "2  1.293928  1.086780  0.745623  1.391058 -1.757221 -0.684523 -0.864803   \n",
       "3 -0.374146  0.953489  0.706444  0.879554  0.080643  0.149182 -0.347978   \n",
       "4  0.223781  0.047823 -0.360504  0.039400 -0.107839  0.144846  0.324016   \n",
       "\n",
       "          7         8         9  ...        11        12        13        14  \\\n",
       "0  0.045805  0.303775 -0.023956  ... -0.051090  0.008086 -0.006933  0.095386   \n",
       "1  0.725487  0.299820  0.903792  ...  0.442254  0.361892 -0.887622 -2.048321   \n",
       "2  1.401125  1.105831 -0.631978  ...  2.394032 -1.585007 -0.687419  2.603145   \n",
       "3  0.555176 -0.906423  0.441393  ...  0.280245 -1.541467 -0.768990 -2.416691   \n",
       "4 -0.002791 -0.003656 -0.106343  ... -0.075669  0.008156 -0.179342  0.058377   \n",
       "\n",
       "         15        16        17        18        19  Cluster20  \n",
       "0  0.089551  0.144270  0.184848  0.106177  0.097128         10  \n",
       "1  0.606284 -0.547722 -0.576092  0.528249  0.923782          1  \n",
       "2  1.103362  0.817548 -0.105484 -0.143435 -5.189215         17  \n",
       "3  0.399270 -0.932385 -1.187793  0.523111 -0.479323          1  \n",
       "4 -0.016583  0.004035 -0.076604  0.141653  0.134086          0  \n",
       "\n",
       "[5 rows x 21 columns]"
      ]
     },
     "execution_count": 17,
     "metadata": {},
     "output_type": "execute_result"
    }
   ],
   "source": [
    "all_benign.head()"
   ]
  },
  {
   "cell_type": "code",
   "execution_count": 18,
   "metadata": {},
   "outputs": [],
   "source": [
    "labels = labels.reset_index(drop=True)"
   ]
  },
  {
   "cell_type": "code",
   "execution_count": 19,
   "metadata": {},
   "outputs": [
    {
     "data": {
      "text/html": [
       "<div>\n",
       "<style scoped>\n",
       "    .dataframe tbody tr th:only-of-type {\n",
       "        vertical-align: middle;\n",
       "    }\n",
       "\n",
       "    .dataframe tbody tr th {\n",
       "        vertical-align: top;\n",
       "    }\n",
       "\n",
       "    .dataframe thead th {\n",
       "        text-align: right;\n",
       "    }\n",
       "</style>\n",
       "<table border=\"1\" class=\"dataframe\">\n",
       "  <thead>\n",
       "    <tr style=\"text-align: right;\">\n",
       "      <th></th>\n",
       "      <th>0</th>\n",
       "      <th>1</th>\n",
       "      <th>2</th>\n",
       "      <th>3</th>\n",
       "      <th>4</th>\n",
       "      <th>5</th>\n",
       "      <th>6</th>\n",
       "      <th>7</th>\n",
       "      <th>8</th>\n",
       "      <th>9</th>\n",
       "      <th>...</th>\n",
       "      <th>13</th>\n",
       "      <th>14</th>\n",
       "      <th>15</th>\n",
       "      <th>16</th>\n",
       "      <th>17</th>\n",
       "      <th>18</th>\n",
       "      <th>19</th>\n",
       "      <th>Cluster20</th>\n",
       "      <th>Device</th>\n",
       "      <th>Counter</th>\n",
       "    </tr>\n",
       "  </thead>\n",
       "  <tbody>\n",
       "    <tr>\n",
       "      <th>0</th>\n",
       "      <td>0.244768</td>\n",
       "      <td>0.013891</td>\n",
       "      <td>-0.227410</td>\n",
       "      <td>0.166543</td>\n",
       "      <td>0.439204</td>\n",
       "      <td>0.049217</td>\n",
       "      <td>0.494034</td>\n",
       "      <td>0.045805</td>\n",
       "      <td>0.303775</td>\n",
       "      <td>-0.023956</td>\n",
       "      <td>...</td>\n",
       "      <td>-0.006933</td>\n",
       "      <td>0.095386</td>\n",
       "      <td>0.089551</td>\n",
       "      <td>0.144270</td>\n",
       "      <td>0.184848</td>\n",
       "      <td>0.106177</td>\n",
       "      <td>0.097128</td>\n",
       "      <td>10</td>\n",
       "      <td>1</td>\n",
       "      <td>1</td>\n",
       "    </tr>\n",
       "    <tr>\n",
       "      <th>1</th>\n",
       "      <td>0.449570</td>\n",
       "      <td>0.012148</td>\n",
       "      <td>-0.881305</td>\n",
       "      <td>-0.048516</td>\n",
       "      <td>-0.505958</td>\n",
       "      <td>0.298853</td>\n",
       "      <td>-0.005891</td>\n",
       "      <td>0.725487</td>\n",
       "      <td>0.299820</td>\n",
       "      <td>0.903792</td>\n",
       "      <td>...</td>\n",
       "      <td>-0.887622</td>\n",
       "      <td>-2.048321</td>\n",
       "      <td>0.606284</td>\n",
       "      <td>-0.547722</td>\n",
       "      <td>-0.576092</td>\n",
       "      <td>0.528249</td>\n",
       "      <td>0.923782</td>\n",
       "      <td>1</td>\n",
       "      <td>5</td>\n",
       "      <td>1</td>\n",
       "    </tr>\n",
       "    <tr>\n",
       "      <th>2</th>\n",
       "      <td>1.293928</td>\n",
       "      <td>1.086780</td>\n",
       "      <td>0.745623</td>\n",
       "      <td>1.391058</td>\n",
       "      <td>-1.757221</td>\n",
       "      <td>-0.684523</td>\n",
       "      <td>-0.864803</td>\n",
       "      <td>1.401125</td>\n",
       "      <td>1.105831</td>\n",
       "      <td>-0.631978</td>\n",
       "      <td>...</td>\n",
       "      <td>-0.687419</td>\n",
       "      <td>2.603145</td>\n",
       "      <td>1.103362</td>\n",
       "      <td>0.817548</td>\n",
       "      <td>-0.105484</td>\n",
       "      <td>-0.143435</td>\n",
       "      <td>-5.189215</td>\n",
       "      <td>17</td>\n",
       "      <td>7</td>\n",
       "      <td>1</td>\n",
       "    </tr>\n",
       "    <tr>\n",
       "      <th>3</th>\n",
       "      <td>-0.374146</td>\n",
       "      <td>0.953489</td>\n",
       "      <td>0.706444</td>\n",
       "      <td>0.879554</td>\n",
       "      <td>0.080643</td>\n",
       "      <td>0.149182</td>\n",
       "      <td>-0.347978</td>\n",
       "      <td>0.555176</td>\n",
       "      <td>-0.906423</td>\n",
       "      <td>0.441393</td>\n",
       "      <td>...</td>\n",
       "      <td>-0.768990</td>\n",
       "      <td>-2.416691</td>\n",
       "      <td>0.399270</td>\n",
       "      <td>-0.932385</td>\n",
       "      <td>-1.187793</td>\n",
       "      <td>0.523111</td>\n",
       "      <td>-0.479323</td>\n",
       "      <td>1</td>\n",
       "      <td>6</td>\n",
       "      <td>1</td>\n",
       "    </tr>\n",
       "    <tr>\n",
       "      <th>4</th>\n",
       "      <td>0.223781</td>\n",
       "      <td>0.047823</td>\n",
       "      <td>-0.360504</td>\n",
       "      <td>0.039400</td>\n",
       "      <td>-0.107839</td>\n",
       "      <td>0.144846</td>\n",
       "      <td>0.324016</td>\n",
       "      <td>-0.002791</td>\n",
       "      <td>-0.003656</td>\n",
       "      <td>-0.106343</td>\n",
       "      <td>...</td>\n",
       "      <td>-0.179342</td>\n",
       "      <td>0.058377</td>\n",
       "      <td>-0.016583</td>\n",
       "      <td>0.004035</td>\n",
       "      <td>-0.076604</td>\n",
       "      <td>0.141653</td>\n",
       "      <td>0.134086</td>\n",
       "      <td>0</td>\n",
       "      <td>1</td>\n",
       "      <td>1</td>\n",
       "    </tr>\n",
       "  </tbody>\n",
       "</table>\n",
       "<p>5 rows × 23 columns</p>\n",
       "</div>"
      ],
      "text/plain": [
       "          0         1         2         3         4         5         6  \\\n",
       "0  0.244768  0.013891 -0.227410  0.166543  0.439204  0.049217  0.494034   \n",
       "1  0.449570  0.012148 -0.881305 -0.048516 -0.505958  0.298853 -0.005891   \n",
       "2  1.293928  1.086780  0.745623  1.391058 -1.757221 -0.684523 -0.864803   \n",
       "3 -0.374146  0.953489  0.706444  0.879554  0.080643  0.149182 -0.347978   \n",
       "4  0.223781  0.047823 -0.360504  0.039400 -0.107839  0.144846  0.324016   \n",
       "\n",
       "          7         8         9  ...        13        14        15        16  \\\n",
       "0  0.045805  0.303775 -0.023956  ... -0.006933  0.095386  0.089551  0.144270   \n",
       "1  0.725487  0.299820  0.903792  ... -0.887622 -2.048321  0.606284 -0.547722   \n",
       "2  1.401125  1.105831 -0.631978  ... -0.687419  2.603145  1.103362  0.817548   \n",
       "3  0.555176 -0.906423  0.441393  ... -0.768990 -2.416691  0.399270 -0.932385   \n",
       "4 -0.002791 -0.003656 -0.106343  ... -0.179342  0.058377 -0.016583  0.004035   \n",
       "\n",
       "         17        18        19  Cluster20  Device  Counter  \n",
       "0  0.184848  0.106177  0.097128         10       1        1  \n",
       "1 -0.576092  0.528249  0.923782          1       5        1  \n",
       "2 -0.105484 -0.143435 -5.189215         17       7        1  \n",
       "3 -1.187793  0.523111 -0.479323          1       6        1  \n",
       "4 -0.076604  0.141653  0.134086          0       1        1  \n",
       "\n",
       "[5 rows x 23 columns]"
      ]
     },
     "execution_count": 19,
     "metadata": {},
     "output_type": "execute_result"
    }
   ],
   "source": [
    "# adding the device id and cluster labels for kmenas with the optimal number of clusters\n",
    "\n",
    "#all_benign = pd.DataFrame(all_benign)\n",
    "\n",
    "# Add the device number back into the dataframe\n",
    "all_benign['Device'] = labels\n",
    "\n",
    "\n",
    "# Adding a counter to sum the number of rows in a pivot table\n",
    "all_benign['Counter'] = 1\n",
    "\n",
    "all_benign.head()"
   ]
  },
  {
   "cell_type": "code",
   "execution_count": 20,
   "metadata": {},
   "outputs": [
    {
     "name": "stdout",
     "output_type": "stream",
     "text": [
      "Summary of data points under each device cluster pair\n",
      "    Device  Cluster20  Counter  Percentage\n",
      "0        1          0    29063   58.681123\n",
      "1        1          7      126    0.254407\n",
      "2        1          8      248    0.500737\n",
      "3        1         10     7563   15.270459\n",
      "4        1         11     1772    3.577846\n",
      "..     ...        ...      ...         ...\n",
      "73       8         11     3453   14.917055\n",
      "74       8         12       36    0.155521\n",
      "75       8         15       10    0.043200\n",
      "76       8         17       85    0.367202\n",
      "77       8         19      664    2.868498\n",
      "\n",
      "[78 rows x 4 columns]\n"
     ]
    },
    {
     "name": "stderr",
     "output_type": "stream",
     "text": [
      "C:\\Users\\sures\\Anaconda3\\envs\\Tensorflow\\lib\\site-packages\\seaborn\\categorical.py:3669: UserWarning: The `factorplot` function has been renamed to `catplot`. The original name will be removed in a future release. Please update your code. Note that the default `kind` in `factorplot` (`'point'`) has changed `'strip'` in `catplot`.\n",
      "  warnings.warn(msg)\n"
     ]
    },
    {
     "data": {
      "image/png": "[encoded data removed]",
      "text/plain": [
       "<Figure size 2160x720 with 1 Axes>"
      ]
     },
     "metadata": {
      "needs_background": "light"
     },
     "output_type": "display_data"
    },
    {
     "data": {
      "image/png": "[encoded data removed]",
      "text/plain": [
       "<Figure size 2160x720 with 1 Axes>"
      ]
     },
     "metadata": {
      "needs_background": "light"
     },
     "output_type": "display_data"
    }
   ],
   "source": [
    "\n",
    "# Create a pivot table to idenitfy the number of data points for each Device and Cluster pair\n",
    "gmm20_pivot =all_benign.pivot_table(['Counter'] , ['Device', 'Cluster20'], aggfunc='sum').reset_index()\n",
    "\n",
    "# Idenity the percentage of data points under each Device Cluster pair\n",
    "gmm20_pivot['Percentage'] = (gmm20_pivot['Counter']/gmm20_pivot.groupby(\"Device\")[\"Counter\"].transform('sum')*100)\n",
    "print(\"Summary of data points under each device cluster pair\")\n",
    "print(gmm20_pivot)\n",
    "\n",
    "# Plot the distrbution of number of data points falling under each cluster for a device\n",
    "g = sns.factorplot(x='Device', y='Counter', hue='Cluster20', data=gmm20_pivot, kind='bar')\n",
    "g.fig.set_size_inches(30,10)\n",
    "plt.title(\"Distribution of Number of data points under each cluster per device\")\n",
    "plt.show()\n",
    "\n",
    "# Plot the distrbution of Percentage of data points falling under each cluster for a device\n",
    "g = sns.factorplot(x='Device', y='Percentage', hue='Cluster20', data=gmm20_pivot, kind='bar')\n",
    "g.fig.set_size_inches(30,10)\n",
    "plt.title(\"Distribution of Percentage of data points under each cluster per device\")\n",
    "plt.show()\n"
   ]
  },
  {
   "cell_type": "code",
   "execution_count": 21,
   "metadata": {},
   "outputs": [
    {
     "name": "stdout",
     "output_type": "stream",
     "text": [
      "           0         1    2         3          4          5    6         7  \\\n",
      "0  58.681123  0.000000  0.0  0.000000   0.000000   0.000000  0.0  0.254407   \n",
      "1   5.712098  0.000000  0.0  0.000000  17.457887   0.000000  0.0  0.137825   \n",
      "2  11.478500  0.000000  0.0  0.000000   0.000000   0.000000  0.0  0.397391   \n",
      "3   0.000000  0.000000  0.0  0.450666   0.000000   0.000000  0.0  0.054765   \n",
      "4   0.000000  5.754836  0.0  0.000000   0.000000  14.750008  0.0  0.174978   \n",
      "\n",
      "          8    9         10        11         12       13         14  \\\n",
      "0  0.500737  0.0  15.270459  3.577846   0.125184  0.00000   1.217518   \n",
      "1  7.565084  0.0   0.000000  7.212864  61.607963  0.00000   0.000000   \n",
      "2  6.246179  0.0   0.015284  9.333605   6.062767  0.00000  33.406358   \n",
      "3  5.590544  0.0   3.628149  2.163198  14.914202  0.00000  18.443091   \n",
      "4  3.425035  0.0   0.000000  4.960954   4.636920  1.06283   7.459253   \n",
      "\n",
      "          15         16   17         18   19  \n",
      "0   0.494680  19.878046  0.0   0.000000  0.0  \n",
      "1   0.306279   0.000000  0.0   0.000000  0.0  \n",
      "2  26.864683   6.195231  0.0   0.000000  0.0  \n",
      "3   1.712532   0.000000  0.0  53.042853  0.0  \n",
      "4  45.776222  11.998963  0.0   0.000000  0.0  \n"
     ]
    }
   ],
   "source": [
    "# Create a dataframe for percentage distribution into clusters for each device. There are nine rows in the dataframe\n",
    "# Each row corresponds to the cluster distribution for each device\n",
    "\n",
    "numclusters = 20\n",
    "clustergroup = pd.DataFrame(np.zeros((8, numclusters)))\n",
    "for i in np.arange(1,9,1):\n",
    "    for j in range(numclusters):\n",
    "        row = gmm20_pivot.loc[(gmm20_pivot['Device'] == i) & (gmm20_pivot['Cluster20'] == j)]\n",
    "        if row.empty == False:\n",
    "            clustergroup.iat[i-1,j] = row['Percentage']\n",
    "            \n",
    "print(clustergroup.head())\n"
   ]
  },
  {
   "cell_type": "code",
   "execution_count": 22,
   "metadata": {},
   "outputs": [
    {
     "name": "stdout",
     "output_type": "stream",
     "text": [
      "Devices clusters with 5 groups\n",
      "[4 1 0 3 0 0 2 2]\n",
      "Devices clusters with 4 groups\n",
      "[2 3 0 0 0 0 1 1]\n",
      "Devices clusters with 3 groups\n",
      "[2 0 0 0 0 0 1 1]\n",
      "Distance between clusters\n",
      "           0          1          2          3          4\n",
      "0   0.000000  71.539635  60.987350  65.012273  69.072911\n",
      "1  71.539635   0.000000  74.980315  75.605251  87.083873\n",
      "2  60.987350  74.980315   0.000000  73.837886  74.019576\n",
      "3  65.012273  75.605251  73.837886   0.000000  85.631580\n",
      "4  69.072911  87.083873  74.019576  85.631580   0.000000\n"
     ]
    }
   ],
   "source": [
    "# Identify the device clusters based on similarity of distribution with the aim to group the devices into 3,4 and 5 clusters\n",
    "\n",
    "kmeans5 = KMeans(n_clusters=5, random_state=0, max_iter = 1000).fit(clustergroup)\n",
    "print(\"Devices clusters with 5 groups\")\n",
    "print(kmeans5.labels_)\n",
    "\n",
    "kmeans4 = KMeans(n_clusters=4, random_state=0, max_iter = 1000).fit(clustergroup)\n",
    "print(\"Devices clusters with 4 groups\")\n",
    "print(kmeans4.labels_)\n",
    "\n",
    "kmeans3 = KMeans(n_clusters=3, random_state=0, max_iter = 1000).fit(clustergroup)\n",
    "print(\"Devices clusters with 3 groups\")\n",
    "print(kmeans3.labels_)\n",
    "\n",
    "\n",
    "# Code to find the cluser distances for five device clusters\n",
    "centroids = kmeans5.cluster_centers_\n",
    "\n",
    "\n",
    "# find the distance between the five cluster centroid\n",
    "distance = spatial.distance.cdist(centroids,centroids)\n",
    "distance = pd.DataFrame(distance)\n",
    "print(\"Distance between clusters\")\n",
    "print(distance.head())"
   ]
  },
  {
   "cell_type": "code",
   "execution_count": 23,
   "metadata": {},
   "outputs": [
    {
     "name": "stdout",
     "output_type": "stream",
     "text": [
      "Devices clusters with 5 groups\n",
      "[4 3 1 0 1 1 2 2]\n",
      "Devices clusters with 4 groups\n",
      "[2 3 1 1 1 1 0 0]\n",
      "Devices clusters with 3 groups\n",
      "[2 1 1 1 1 1 0 0]\n",
      "Distance between clusters\n",
      "           0          1          2          3          4\n",
      "0   0.000000  65.012273  73.837886  75.605251  85.631580\n",
      "1  65.012273   0.000000  60.987350  71.539635  69.072911\n",
      "2  73.837886  60.987350   0.000000  74.980315  74.019576\n",
      "3  75.605251  71.539635  74.980315   0.000000  87.083873\n",
      "4  85.631580  69.072911  74.019576  87.083873   0.000000\n"
     ]
    }
   ],
   "source": [
    "# Identify the device clusters based on similarity of distribution with the aim to group the devices into 3,4 and 5 clusters\n",
    "\n",
    "kmeans5 = KMeans(n_clusters=5, random_state=42, max_iter = 1000).fit(clustergroup)\n",
    "print(\"Devices clusters with 5 groups\")\n",
    "print(kmeans5.labels_)\n",
    "\n",
    "kmeans4 = KMeans(n_clusters=4, random_state=42, max_iter = 1000).fit(clustergroup)\n",
    "print(\"Devices clusters with 4 groups\")\n",
    "print(kmeans4.labels_)\n",
    "\n",
    "kmeans3 = KMeans(n_clusters=3, random_state=42, max_iter = 1000).fit(clustergroup)\n",
    "print(\"Devices clusters with 3 groups\")\n",
    "print(kmeans3.labels_)\n",
    "\n",
    "\n",
    "# Code to find the cluser distances for five device clusters\n",
    "centroids = kmeans5.cluster_centers_\n",
    "\n",
    "\n",
    "# find the distance between the five cluster centroid\n",
    "distance = spatial.distance.cdist(centroids,centroids)\n",
    "distance = pd.DataFrame(distance)\n",
    "print(\"Distance between clusters\")\n",
    "print(distance.head())"
   ]
  },
  {
   "cell_type": "code",
   "execution_count": 24,
   "metadata": {},
   "outputs": [
    {
     "data": {
      "text/plain": [
       "(8, 20)"
      ]
     },
     "execution_count": 24,
     "metadata": {},
     "output_type": "execute_result"
    }
   ],
   "source": [
    "clustergroup.shape"
   ]
  },
  {
   "cell_type": "code",
   "execution_count": 25,
   "metadata": {},
   "outputs": [
    {
     "name": "stdout",
     "output_type": "stream",
     "text": [
      "Devices clusters with 5 groups\n",
      "[4, 3, 1, 0, 1, 1, 2, 2]\n",
      "Devices clusters with 4 groups\n",
      "[1, 3, 1, 0, 1, 1, 2, 2]\n",
      "Devices clusters with 3 groups\n",
      "[1, 1, 1, 0, 1, 1, 2, 2]\n"
     ]
    }
   ],
   "source": [
    "# Identify the device clusters based on similarity of distribution with the aim to group the devices into 3,4 and 5 clusters\n",
    "\n",
    "GMM5 = GaussianMixture(n_components=5, random_state=42).fit(clustergroup)\n",
    "clustergroup['Cluster5'] = GMM5.predict(clustergroup)\n",
    "print(\"Devices clusters with 5 groups\")\n",
    "print(list(clustergroup.Cluster5))\n",
    "\n",
    "GMM4 = GaussianMixture(n_components=4, random_state=42).fit(clustergroup)\n",
    "clustergroup['Cluster4'] = GMM4.predict(clustergroup)\n",
    "print(\"Devices clusters with 4 groups\")\n",
    "print(list(clustergroup.Cluster4))\n",
    "\n",
    "GMM3 = GaussianMixture(n_components=3, random_state=42).fit(clustergroup)\n",
    "clustergroup['Cluster3'] = GMM3.predict(clustergroup)\n",
    "print(\"Devices clusters with 3 groups\")\n",
    "print(list(clustergroup.Cluster3))\n"
   ]
  },
  {
   "cell_type": "code",
   "execution_count": 26,
   "metadata": {},
   "outputs": [
    {
     "name": "stdout",
     "output_type": "stream",
     "text": [
      "(8, 23)\n",
      "(8, 20)\n",
      "(292976, 23)\n",
      "(292976, 21)\n"
     ]
    }
   ],
   "source": [
    "print(clustergroup.shape)\n",
    "clustergroup = clustergroup.drop(['Cluster5', 'Cluster4', 'Cluster3'], axis=1)\n",
    "print(clustergroup.shape)\n",
    "\n",
    "print(all_benign.shape)\n",
    "#all_benign = all_benign.drop(['Cluster20', 'Device', 'Counter'], axis=1)\n",
    "all_benign = all_benign.drop(['Device', 'Counter'], axis=1)\n",
    "print(all_benign.shape)\n"
   ]
  },
  {
   "cell_type": "code",
   "execution_count": null,
   "metadata": {},
   "outputs": [],
   "source": []
  },
  {
   "cell_type": "code",
   "execution_count": null,
   "metadata": {},
   "outputs": [],
   "source": []
  }
 ],
 "metadata": {
  "kernelspec": {
   "display_name": "Python 3",
   "language": "python",
   "name": "python3"
  },
  "language_info": {
   "codemirror_mode": {
    "name": "ipython",
    "version": 3
   },
   "file_extension": ".py",
   "mimetype": "text/x-python",
   "name": "python",
   "nbconvert_exporter": "python",
   "pygments_lexer": "ipython3",
   "version": "3.7.3"
  }
 },
 "nbformat": 4,
 "nbformat_minor": 2
}
