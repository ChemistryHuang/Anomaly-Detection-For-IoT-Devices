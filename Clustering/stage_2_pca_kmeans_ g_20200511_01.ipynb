{
 "cells": [
  {
   "cell_type": "markdown",
   "metadata": {},
   "source": [
    "## Stage2 (Pattern Recognition) -  KMeans Clustering for IoT Pattern Similarity¶"
   ]
  },
  {
   "cell_type": "markdown",
   "metadata": {},
   "source": [
    "### Stage 1 Linear (PCA) Dimension Reduction of the 8 IoTs benign data from 115 features to 10 principle components."
   ]
  },
  {
   "cell_type": "markdown",
   "metadata": {},
   "source": [
    "## Stage 2 Steps in Detail -\n",
    "###      Input Data: 'Benign' from first 8 x IoTs: 536,404 records x 10 principle components\n",
    "###      Stage 2 (Pattern Recognition): KMeans\n",
    "###                 Step 2.1 --> Calculate Inertia to identify the correct number of clusters\n",
    "###                 Step 2.2 --> Visual confirmation of IoT similarities among 20 clusters\n",
    "###                 Step 2.3 --> Clustering of IoT patterns to group similar IoTs, as clusters of 3 or 4 or 5 groups.\n",
    "###       Results: IoTs (1,3),(5,6) and (2,7,8) show pattern similarities among IoTs within those groups."
   ]
  },
  {
   "cell_type": "markdown",
   "metadata": {},
   "source": [
    "## Summary: Analysis show IoTs (1,3),(5,6) and (2,7,8) can be grouped together based on pattern recognition similarities.\n",
    "#### backup Ref:  stage_2_pca_kmeans_ g_20200429_02.ipynb"
   ]
  },
  {
   "cell_type": "markdown",
   "metadata": {},
   "source": [
    "### Stage 1 (Dimensionality Reduction): PCA\n",
    "### Stage 1 - 536,404 records with 115 features ->  PCA (linear) dimension reduction -> 536,404 x 10 dimensions¶"
   ]
  },
  {
   "cell_type": "code",
   "execution_count": 1,
   "metadata": {},
   "outputs": [],
   "source": [
    "# Import all packages required for compression and clustering\n",
    "from sklearn.cluster import KMeans\n",
    "import pandas as pd\n",
    "import numpy as np\n",
    "import matplotlib.pyplot as plt\n",
    "import seaborn as sns\n",
    "from sklearn.preprocessing import StandardScaler\n",
    "from sklearn.decomposition import PCA\n",
    "from scipy import spatial\n",
    "pd.set_option('display.max_rows', 500)\n"
   ]
  },
  {
   "cell_type": "code",
   "execution_count": 2,
   "metadata": {},
   "outputs": [],
   "source": [
    "#Import benign files from all nine IoT devices and capture the device information in a seperate dataframe\n",
    "\n",
    "device1 =pd.read_csv(\"1.benign.csv\")\n",
    "device1['Device'] = 1\n",
    "label1 = device1['Device']\n",
    "device1 = device1.drop(['Device'], axis=1)\n",
    "\n",
    "device2 =pd.read_csv(\"2.benign.csv\")\n",
    "device2['Device'] = 2\n",
    "label2 = device2['Device']\n",
    "device2 = device2.drop(['Device'], axis=1)\n",
    "\n",
    "device3 =pd.read_csv(\"3.benign.csv\")\n",
    "device3['Device'] = 3\n",
    "label3 = device3['Device']\n",
    "device3 = device3.drop(['Device'], axis=1)\n",
    "\n",
    "device4 =pd.read_csv(\"4.benign.csv\")\n",
    "device4['Device'] = 4\n",
    "label4 = device4['Device']\n",
    "device4 = device4.drop(['Device'], axis=1)\n",
    "\n",
    "device5 =pd.read_csv(\"5.benign.csv\")\n",
    "device5['Device'] = 5\n",
    "label5 = device5['Device']\n",
    "device5 = device5.drop(['Device'], axis=1)\n",
    "\n",
    "device6 =pd.read_csv(\"6.benign.csv\")\n",
    "device6['Device'] = 6\n",
    "label6 = device6['Device']\n",
    "device6 = device6.drop(['Device'], axis=1)\n",
    "\n",
    "device7 =pd.read_csv(\"7.benign.csv\")\n",
    "device7['Device'] = 7\n",
    "label7 = device7['Device']\n",
    "device7 = device7.drop(['Device'], axis=1)\n",
    "\n",
    "device8 =pd.read_csv(\"8.benign.csv\")\n",
    "device8['Device'] = 8\n",
    "label8 = device8['Device']\n",
    "device8 = device8.drop(['Device'], axis=1)\n",
    "\n",
    "# Device 9 is being withheld until stage 4 and introduced as a new IoT \n",
    "# into the IoT Ecosystem and pattern similarities used to match to similar IoT cluster.\n"
   ]
  },
  {
   "cell_type": "code",
   "execution_count": 3,
   "metadata": {},
   "outputs": [
    {
     "name": "stdout",
     "output_type": "stream",
     "text": [
      "Input features shape --> (536404, 115)\n",
      "Labels shape -->  (536404,)\n"
     ]
    }
   ],
   "source": [
    "# Combine all the benign data into a single dataframe\n",
    "all_benign = device1.append([device2,device3,device4,device5,device6,device7,device8])\n",
    "\n",
    "# Scale the benign data\n",
    "scaler = StandardScaler()\n",
    "scaler.fit(all_benign)\n",
    "all_benign = scaler.transform(all_benign)\n",
    "\n",
    "# Combine all the IoT device numbers into a dataframe\n",
    "labels = label1.append([label2,label3,label4,label5,label6,label7,label8])\n",
    "\n",
    "print(\"Input features shape -->\", all_benign.shape)\n",
    "print(\"Labels shape --> \", labels.shape)\n",
    "\n",
    "# delete the individual device data dataframe to release memory\n",
    "del device1, device2,device3,device4,device5,device6,device7,device8"
   ]
  },
  {
   "cell_type": "code",
   "execution_count": 4,
   "metadata": {},
   "outputs": [
    {
     "name": "stdout",
     "output_type": "stream",
     "text": [
      "PCA variance explained -->  [36.60377136 18.94701123 13.43772733  9.14416253  5.9946775   4.41712791\n",
      "  3.50810331  3.12110343  2.79440918  2.3682423 ]\n"
     ]
    },
    {
     "data": {
      "image/png": "[encoded data removed]",
      "text/plain": [
       "<Figure size 432x288 with 1 Axes>"
      ]
     },
     "metadata": {
      "needs_background": "light"
     },
     "output_type": "display_data"
    }
   ],
   "source": [
    "# Apply PCA on the inut features with 10 components\n",
    "pca=PCA(n_components=10) \n",
    "pca.fit(all_benign) \n",
    "all_benign=pca.transform(all_benign)\n",
    "\n",
    "# Variance explained\n",
    "pca_variance_explained = pca.explained_variance_\n",
    "print(\"PCA variance explained --> \", pca_variance_explained)\n",
    "plt.plot(pca_variance_explained)\n",
    "plt.title(\"PCA Variance Explained\")\n",
    "plt.xlabel(\"PCA Component\")\n",
    "plt.ylabel(\"Percentage variance explained\")\n",
    "plt.show()"
   ]
  },
  {
   "cell_type": "markdown",
   "metadata": {},
   "source": [
    "## Stage 2 (Pattern Recognition): KMeans\n",
    "## Apply pattern recognition techniques to find IoT similarities"
   ]
  },
  {
   "cell_type": "code",
   "execution_count": 5,
   "metadata": {},
   "outputs": [],
   "source": [
    "# Fit a K-Means on 10 principle components from PCA. Try multiple values of n_clusters to find the optimal clusters\n",
    "\n",
    "inertia = []\n",
    "kmeans2 = KMeans(n_clusters=2, random_state=0, max_iter = 1000).fit(all_benign)\n",
    "inertia.append(kmeans2.inertia_)\n",
    "\n",
    "kmeans10 = KMeans(n_clusters=10, random_state=0, max_iter = 1000).fit(all_benign)\n",
    "inertia.append(kmeans10.inertia_)\n",
    "\n",
    "kmeans20 = KMeans(n_clusters=20, random_state=0, max_iter = 1000).fit(all_benign)\n",
    "inertia.append(kmeans20.inertia_)\n",
    "\n",
    "kmeans30 = KMeans(n_clusters=30, random_state=0, max_iter = 1000).fit(all_benign)\n",
    "inertia.append(kmeans30.inertia_)\n",
    "\n",
    "kmeans40 = KMeans(n_clusters=40, random_state=0, max_iter = 1000).fit(all_benign)\n",
    "inertia.append(kmeans40.inertia_)\n",
    "\n",
    "kmeans50 = KMeans(n_clusters=50, random_state=0, max_iter = 1000).fit(all_benign)\n",
    "inertia.append(kmeans50.inertia_)\n"
   ]
  },
  {
   "cell_type": "code",
   "execution_count": 6,
   "metadata": {},
   "outputs": [
    {
     "data": {
      "image/png": "[encoded data removed]",
      "text/plain": [
       "<Figure size 432x288 with 1 Axes>"
      ]
     },
     "metadata": {
      "needs_background": "light"
     },
     "output_type": "display_data"
    }
   ],
   "source": [
    "# Plot the kmeans elbow graph\n",
    "\n",
    "components = ('2','10','20','30','40','50') \n",
    "plt.plot(components, inertia)\n",
    "plt.title(\"Kmeans Elbow graph for PCA\")\n",
    "plt.xlabel(\"Number of clusters\")\n",
    "plt.ylabel(\"Inertia\")\n",
    "plt.show()"
   ]
  },
  {
   "cell_type": "code",
   "execution_count": 7,
   "metadata": {},
   "outputs": [
    {
     "data": {
      "text/html": [
       "<div>\n",
       "<style scoped>\n",
       "    .dataframe tbody tr th:only-of-type {\n",
       "        vertical-align: middle;\n",
       "    }\n",
       "\n",
       "    .dataframe tbody tr th {\n",
       "        vertical-align: top;\n",
       "    }\n",
       "\n",
       "    .dataframe thead th {\n",
       "        text-align: right;\n",
       "    }\n",
       "</style>\n",
       "<table border=\"1\" class=\"dataframe\">\n",
       "  <thead>\n",
       "    <tr style=\"text-align: right;\">\n",
       "      <th></th>\n",
       "      <th>0</th>\n",
       "      <th>1</th>\n",
       "      <th>2</th>\n",
       "      <th>3</th>\n",
       "      <th>4</th>\n",
       "      <th>5</th>\n",
       "      <th>6</th>\n",
       "      <th>7</th>\n",
       "      <th>8</th>\n",
       "      <th>9</th>\n",
       "      <th>Device</th>\n",
       "      <th>Cluster20</th>\n",
       "      <th>Counter</th>\n",
       "    </tr>\n",
       "  </thead>\n",
       "  <tbody>\n",
       "    <tr>\n",
       "      <th>0</th>\n",
       "      <td>-4.129508</td>\n",
       "      <td>0.807769</td>\n",
       "      <td>-1.123554</td>\n",
       "      <td>-1.213362</td>\n",
       "      <td>40.558242</td>\n",
       "      <td>-8.320779</td>\n",
       "      <td>-4.390020</td>\n",
       "      <td>-31.941843</td>\n",
       "      <td>-3.640965</td>\n",
       "      <td>-0.772878</td>\n",
       "      <td>1</td>\n",
       "      <td>5</td>\n",
       "      <td>1</td>\n",
       "    </tr>\n",
       "    <tr>\n",
       "      <th>1</th>\n",
       "      <td>4.334265</td>\n",
       "      <td>-8.491078</td>\n",
       "      <td>3.164592</td>\n",
       "      <td>-1.389085</td>\n",
       "      <td>-0.394659</td>\n",
       "      <td>-2.058676</td>\n",
       "      <td>0.806110</td>\n",
       "      <td>0.049179</td>\n",
       "      <td>0.088924</td>\n",
       "      <td>-0.272879</td>\n",
       "      <td>1</td>\n",
       "      <td>2</td>\n",
       "      <td>1</td>\n",
       "    </tr>\n",
       "    <tr>\n",
       "      <th>2</th>\n",
       "      <td>4.687647</td>\n",
       "      <td>-8.485490</td>\n",
       "      <td>3.322953</td>\n",
       "      <td>-1.348538</td>\n",
       "      <td>-0.397573</td>\n",
       "      <td>-2.129471</td>\n",
       "      <td>0.856496</td>\n",
       "      <td>0.056899</td>\n",
       "      <td>0.057731</td>\n",
       "      <td>-0.293760</td>\n",
       "      <td>1</td>\n",
       "      <td>2</td>\n",
       "      <td>1</td>\n",
       "    </tr>\n",
       "    <tr>\n",
       "      <th>3</th>\n",
       "      <td>3.773899</td>\n",
       "      <td>-8.131095</td>\n",
       "      <td>2.417157</td>\n",
       "      <td>-2.938067</td>\n",
       "      <td>40.306497</td>\n",
       "      <td>-9.709948</td>\n",
       "      <td>-4.490943</td>\n",
       "      <td>-31.929081</td>\n",
       "      <td>-3.181501</td>\n",
       "      <td>-0.989504</td>\n",
       "      <td>1</td>\n",
       "      <td>5</td>\n",
       "      <td>1</td>\n",
       "    </tr>\n",
       "    <tr>\n",
       "      <th>4</th>\n",
       "      <td>0.126369</td>\n",
       "      <td>-1.819396</td>\n",
       "      <td>-1.242148</td>\n",
       "      <td>-1.550790</td>\n",
       "      <td>40.746138</td>\n",
       "      <td>-6.628364</td>\n",
       "      <td>-4.904347</td>\n",
       "      <td>-31.937685</td>\n",
       "      <td>-4.089543</td>\n",
       "      <td>-2.586129</td>\n",
       "      <td>1</td>\n",
       "      <td>5</td>\n",
       "      <td>1</td>\n",
       "    </tr>\n",
       "  </tbody>\n",
       "</table>\n",
       "</div>"
      ],
      "text/plain": [
       "          0         1         2         3          4         5         6  \\\n",
       "0 -4.129508  0.807769 -1.123554 -1.213362  40.558242 -8.320779 -4.390020   \n",
       "1  4.334265 -8.491078  3.164592 -1.389085  -0.394659 -2.058676  0.806110   \n",
       "2  4.687647 -8.485490  3.322953 -1.348538  -0.397573 -2.129471  0.856496   \n",
       "3  3.773899 -8.131095  2.417157 -2.938067  40.306497 -9.709948 -4.490943   \n",
       "4  0.126369 -1.819396 -1.242148 -1.550790  40.746138 -6.628364 -4.904347   \n",
       "\n",
       "           7         8         9  Device  Cluster20  Counter  \n",
       "0 -31.941843 -3.640965 -0.772878       1          5        1  \n",
       "1   0.049179  0.088924 -0.272879       1          2        1  \n",
       "2   0.056899  0.057731 -0.293760       1          2        1  \n",
       "3 -31.929081 -3.181501 -0.989504       1          5        1  \n",
       "4 -31.937685 -4.089543 -2.586129       1          5        1  "
      ]
     },
     "execution_count": 7,
     "metadata": {},
     "output_type": "execute_result"
    }
   ],
   "source": [
    "# adding the device id and cluster labels for kmenas with the optimal number of clusters\n",
    "\n",
    "all_benign = pd.DataFrame(all_benign)\n",
    "\n",
    "# Add the device number back into the dataframe\n",
    "all_benign['Device'] = labels.values\n",
    "\n",
    "all_benign['Cluster20'] = kmeans20.labels_\n",
    "\n",
    "# Adding a counter to sum the number of rows in a pivot table\n",
    "all_benign['Counter'] = 1\n",
    "\n",
    "all_benign.head()"
   ]
  },
  {
   "cell_type": "code",
   "execution_count": 8,
   "metadata": {},
   "outputs": [
    {
     "name": "stdout",
     "output_type": "stream",
     "text": [
      "Summary of data points under each device cluster pair\n",
      "    Device  Cluster20  Counter  Percentage\n",
      "0        1          2       12    0.024219\n",
      "1        1          5      128    0.258335\n",
      "2        1         10       57    0.115040\n",
      "3        1         16    49346   99.592315\n",
      "4        1         18        5    0.010091\n",
      "5        2          2     4896   37.336994\n",
      "6        2          4        6    0.045756\n",
      "7        2          5       24    0.183024\n",
      "8        2          7        1    0.007626\n",
      "9        2          9      100    0.762602\n",
      "10       2         10       23    0.175398\n",
      "11       2         11       10    0.076260\n",
      "12       2         12      177    1.349806\n",
      "13       2         16     4034   30.763365\n",
      "14       2         17      954    7.275223\n",
      "15       2         18     2888   22.023946\n",
      "16       3          0      276    0.705882\n",
      "17       3          2        4    0.010230\n",
      "18       3          5      138    0.352941\n",
      "19       3         10       75    0.191816\n",
      "20       3         16    37473   95.838875\n",
      "21       3         18     1134    2.900256\n",
      "22       4          0   157208   89.710112\n",
      "23       4          1        1    0.000571\n",
      "24       4          2       22    0.012554\n",
      "25       4          4      879    0.501598\n",
      "26       4          5       94    0.053641\n",
      "27       4          7     1335    0.761812\n",
      "28       4          8      752    0.429126\n",
      "29       4          9      926    0.528418\n",
      "30       4         10      207    0.118124\n",
      "31       4         11     4985    2.844670\n",
      "32       4         12       84    0.047934\n",
      "33       4         14      187    0.106711\n",
      "34       4         16     7563    4.315795\n",
      "35       4         17      300    0.171194\n",
      "36       4         18      142    0.081032\n",
      "37       4         19      555    0.316709\n",
      "38       5          0     1513    2.434276\n",
      "39       5          1     2326    3.742317\n",
      "40       5          2       13    0.020916\n",
      "41       5          4      731    1.176111\n",
      "42       5          5      113    0.181806\n",
      "43       5          6     2485    3.998134\n",
      "44       5          7        4    0.006436\n",
      "45       5          9       30    0.048267\n",
      "46       5         10      132    0.212376\n",
      "47       5         11      613    0.986260\n",
      "48       5         12     3030    4.874988\n",
      "49       5         15     3266    5.254690\n",
      "50       5         16    45884   73.823085\n",
      "51       5         17     1975    3.177591\n",
      "52       5         18       39    0.062747\n",
      "53       6          0    14971   15.196825\n",
      "54       6          1     6955    7.059910\n",
      "55       6          2       12    0.012181\n",
      "56       6          4     2982    3.026981\n",
      "57       6          5      116    0.117750\n",
      "58       6          6     2582    2.620947\n",
      "59       6          7        6    0.006091\n",
      "60       6          9       76    0.077146\n",
      "61       6         10       91    0.092373\n",
      "62       6         11     4110    4.171996\n",
      "63       6         12     5070    5.146477\n",
      "64       6         15     3432    3.483769\n",
      "65       6         16    51172   51.943886\n",
      "66       6         17     5215    5.293664\n",
      "67       6         18     1724    1.750005\n",
      "68       7          0       44    0.084372\n",
      "69       7          1       93    0.178332\n",
      "70       7          2    25561   49.014382\n",
      "71       7          4       56    0.107383\n",
      "72       7          5       92    0.176414\n",
      "73       7          7       46    0.088207\n",
      "74       7          9      149    0.285714\n",
      "75       7         10      111    0.212848\n",
      "76       7         11      242    0.464046\n",
      "77       7         12      194    0.372004\n",
      "78       7         14        4    0.007670\n",
      "79       7         16     8846   16.962608\n",
      "80       7         17      181    0.347076\n",
      "81       7         18    16531   31.698945\n",
      "82       8          0      259    0.555973\n",
      "83       8          2    19006   40.798540\n",
      "84       8          3      673    1.444671\n",
      "85       8          4        6    0.012880\n",
      "86       8          5      137    0.294086\n",
      "87       8          6      299    0.641838\n",
      "88       8          9     1247    2.676827\n",
      "89       8         10      167    0.358484\n",
      "90       8         11      124    0.266180\n",
      "91       8         13     1163    2.496512\n",
      "92       8         16    22938   49.239025\n",
      "93       8         17      175    0.375657\n",
      "94       8         18      391    0.839326\n"
     ]
    }
   ],
   "source": [
    "# Create a pivot table to idenitfy the number of data points for each Device and Cluster pair\n",
    "kmeans20_pivot =all_benign.pivot_table(['Counter'] , ['Device', 'Cluster20'], aggfunc='sum').reset_index()\n",
    "\n",
    "# Idenity the percentage of data points under each Device Cluster pair\n",
    "kmeans20_pivot['Percentage'] = (kmeans20_pivot['Counter']/kmeans20_pivot.groupby(\"Device\")[\"Counter\"].transform('sum')*100)\n",
    "print(\"Summary of data points under each device cluster pair\")\n",
    "print(kmeans20_pivot)\n",
    "\n"
   ]
  },
  {
   "cell_type": "code",
   "execution_count": 9,
   "metadata": {},
   "outputs": [
    {
     "name": "stderr",
     "output_type": "stream",
     "text": [
      "C:\\Users\\sures\\Anaconda3\\envs\\Tensorflow\\lib\\site-packages\\seaborn\\categorical.py:3669: UserWarning: The `factorplot` function has been renamed to `catplot`. The original name will be removed in a future release. Please update your code. Note that the default `kind` in `factorplot` (`'point'`) has changed `'strip'` in `catplot`.\n",
      "  warnings.warn(msg)\n"
     ]
    },
    {
     "data": {
      "image/png": "[encoded data removed]",
      "text/plain": [
       "<Figure size 2160x720 with 1 Axes>"
      ]
     },
     "metadata": {
      "needs_background": "light"
     },
     "output_type": "display_data"
    }
   ],
   "source": [
    "# Plot the distrbution of number of data points falling under each cluster for a device\n",
    "g = sns.factorplot(x='Device', y='Counter', hue='Cluster20', data=kmeans20_pivot, kind='bar')\n",
    "g.fig.set_size_inches(30,10)\n",
    "plt.title(\"Distribution of Number of data points under each cluster per device\")\n",
    "plt.show()\n",
    "\n"
   ]
  },
  {
   "cell_type": "code",
   "execution_count": 10,
   "metadata": {},
   "outputs": [
    {
     "data": {
      "image/png": "[encoded data removed]",
      "text/plain": [
       "<Figure size 2160x720 with 1 Axes>"
      ]
     },
     "metadata": {
      "needs_background": "light"
     },
     "output_type": "display_data"
    }
   ],
   "source": [
    "# Plot the distrbution of Percentage of data points falling under each cluster for a device\n",
    "g = sns.factorplot(x='Device', y='Percentage', hue='Cluster20', data=kmeans20_pivot, kind='bar')\n",
    "g.fig.set_size_inches(30,10)\n",
    "plt.title(\"Distribution of Percentage of data points under each cluster per device\")\n",
    "plt.show()\n",
    "\n"
   ]
  },
  {
   "cell_type": "code",
   "execution_count": 11,
   "metadata": {},
   "outputs": [
    {
     "name": "stdout",
     "output_type": "stream",
     "text": [
      "           0         1          2    3         4         5         6  \\\n",
      "0   0.000000  0.000000   0.024219  0.0  0.000000  0.258335  0.000000   \n",
      "1   0.000000  0.000000  37.336994  0.0  0.045756  0.183024  0.000000   \n",
      "2   0.705882  0.000000   0.010230  0.0  0.000000  0.352941  0.000000   \n",
      "3  89.710112  0.000571   0.012554  0.0  0.501598  0.053641  0.000000   \n",
      "4   2.434276  3.742317   0.020916  0.0  1.176111  0.181806  3.998134   \n",
      "\n",
      "          7         8         9        10       11        12   13        14  \\\n",
      "0  0.000000  0.000000  0.000000  0.115040  0.00000  0.000000  0.0  0.000000   \n",
      "1  0.007626  0.000000  0.762602  0.175398  0.07626  1.349806  0.0  0.000000   \n",
      "2  0.000000  0.000000  0.000000  0.191816  0.00000  0.000000  0.0  0.000000   \n",
      "3  0.761812  0.429126  0.528418  0.118124  2.84467  0.047934  0.0  0.106711   \n",
      "4  0.006436  0.000000  0.048267  0.212376  0.98626  4.874988  0.0  0.000000   \n",
      "\n",
      "        15         16        17         18        19  \n",
      "0  0.00000  99.592315  0.000000   0.010091  0.000000  \n",
      "1  0.00000  30.763365  7.275223  22.023946  0.000000  \n",
      "2  0.00000  95.838875  0.000000   2.900256  0.000000  \n",
      "3  0.00000   4.315795  0.171194   0.081032  0.316709  \n",
      "4  5.25469  73.823085  3.177591   0.062747  0.000000  \n",
      "Devices clusters with 5 groups\n",
      "[3 2 3 1 0 0 2 4]\n",
      "Devices clusters with 4 groups\n",
      "[3 2 3 1 0 0 2 2]\n",
      "Devices clusters with 3 groups\n",
      "[0 2 0 1 0 0 2 2]\n",
      "Distance between clusters\n",
      "            0           1           2           3           4\n",
      "0    0.000000  100.393565   64.971214   37.397228   45.142904\n",
      "1  100.393565    0.000000  104.996331  129.304719  107.943964\n",
      "2   64.971214  104.996331    0.000000   89.320117   36.782777\n",
      "3   37.397228  129.304719   89.320117    0.000000   63.479645\n",
      "4   45.142904  107.943964   36.782777   63.479645    0.000000\n"
     ]
    }
   ],
   "source": [
    "# Create a dataframe for percentage distribution into clusters for each device. There are nine rows in the dataframe\n",
    "# Each row corresponds to the cluster distribution for each device\n",
    "\n",
    "numclusters = 20\n",
    "clustergroup = pd.DataFrame(np.zeros((8, numclusters)))\n",
    "for i in np.arange(1,9,1):\n",
    "    for j in range(numclusters):\n",
    "        row = kmeans20_pivot.loc[(kmeans20_pivot['Device'] == i) & (kmeans20_pivot['Cluster20'] == j)]\n",
    "        if row.empty == False:\n",
    "            clustergroup.iat[i-1,j] = row['Percentage']\n",
    "            \n",
    "print(clustergroup.head())\n",
    "\n",
    "# Identify the device clusters based on similarity of distribution with the aim to group the devices into 3,4 and 5 clusters\n",
    "\n",
    "kmeans5 = KMeans(n_clusters=5, random_state=0, max_iter = 1000).fit(clustergroup)\n",
    "print(\"Devices clusters with 5 groups\")\n",
    "print(kmeans5.labels_)\n",
    "\n",
    "kmeans4 = KMeans(n_clusters=4, random_state=0, max_iter = 1000).fit(clustergroup)\n",
    "print(\"Devices clusters with 4 groups\")\n",
    "print(kmeans4.labels_)\n",
    "\n",
    "kmeans3 = KMeans(n_clusters=3, random_state=0, max_iter = 1000).fit(clustergroup)\n",
    "print(\"Devices clusters with 3 groups\")\n",
    "print(kmeans3.labels_)\n",
    "\n",
    "\n",
    "# Code to find the cluser distances for five device clusters\n",
    "centroids = kmeans5.cluster_centers_\n",
    "\n",
    "\n",
    "# find the distance between the five cluster centroid\n",
    "distance = spatial.distance.cdist(centroids,centroids)\n",
    "distance = pd.DataFrame(distance)\n",
    "print(\"Distance between clusters\")\n",
    "print(distance.head())"
   ]
  },
  {
   "cell_type": "code",
   "execution_count": null,
   "metadata": {},
   "outputs": [],
   "source": []
  }
 ],
 "metadata": {
  "kernelspec": {
   "display_name": "Python 3",
   "language": "python",
   "name": "python3"
  },
  "language_info": {
   "codemirror_mode": {
    "name": "ipython",
    "version": 3
   },
   "file_extension": ".py",
   "mimetype": "text/x-python",
   "name": "python",
   "nbconvert_exporter": "python",
   "pygments_lexer": "ipython3",
   "version": "3.7.6"
  }
 },
 "nbformat": 4,
 "nbformat_minor": 2
}
